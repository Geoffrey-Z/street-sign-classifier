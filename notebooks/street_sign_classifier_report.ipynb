{
 "cells": [
  {
   "cell_type": "markdown",
   "metadata": {},
   "source": [
    "# Street Sign Classifier Report\n",
    "\n",
    "This project implements a street sign classifier using deep learning. This project is written in Python 3.6. The `keras`, `tensorflow`, and `scikit-learn` packages were used to build the model. Data visualization and preprocessing was done with the `matplotlib` and `scikit-image` packages."
   ]
  },
  {
   "cell_type": "markdown",
   "metadata": {},
   "source": [
    "## Dataset\n",
    "\n",
    "The following two datasets were considered for this project:\n",
    "\n",
    "* [LISA Traffic Sign Dataset](http://cvrr.ucsd.edu/LISA/lisa-traffic-sign-dataset.html) - a set of pictures and videos with annotated frames containing US traffic signs.\n",
    "* [BelgiumTS Dataset](https://btsd.ethz.ch/shareddata/) - a set of labelled pictures containing Belgium traffic signs.\n",
    "\n",
    "The BelgiumTS dataset was selected due to its simplicity and smaller size. The LISA dataset is very large, and has far more data than is necessary for a small-scale project like this."
   ]
  },
  {
   "cell_type": "markdown",
   "metadata": {},
   "source": [
    "## Splitting\n",
    "\n",
    "The BelgiumTS dataset is pre-split into training and test sets upon download. This would be convenient if we only needed a training and test set. However, we also need a validation set. So instead of using the pre-split data, we merge them back together into a single dataset. We then randomly split this merged dataset into training (60%), validation (20%), and test (20%) sets."
   ]
  },
  {
   "cell_type": "markdown",
   "metadata": {},
   "source": [
    "## Resizing\n",
    "\n",
    "The BelgiumTS dataset contains 62 classes of street signs, with 7095 images in total. The number of images in each class varies from as few as 6, up to 285. The visualization below contains a single image from each class in the dataset.\n",
    "\n",
    "![btsc-orig-all-classes.png](assets/btsc-orig-all-classes.png)\n",
    "\n",
    "As you can see from the visualization, the images do not have a standard size. This means that the images must be resized to a standard width and height before they can be fed as input to a  neural network.\n",
    "\n",
    "We resized the images to 32x32 pixels. This was done using `scikit-image`. A few different sizes were tested: 16x16, 32x32, and 64x64. We found that 32x32 gave us the same accuracy as 64x64, while being faster to train with. 16x16 was ruled out because the it resulted in the DNN being ~3% less accurate than with 32x32."
   ]
  },
  {
   "cell_type": "markdown",
   "metadata": {},
   "source": [
    "## Network Architecture\n",
    "\n",
    "I used a deep convolutional network model to classify the street signs. I chose this type of model because they are known to perform quite well on image datasets, such as MNIST and ImageNet. The architecture of the final version of the Keras model is shown below.\n",
    "```python\n",
    "model = Sequential()\n",
    "\n",
    "model.add(Conv2D(64, (3, 3), input_shape=(32, 32, 3), activation='relu'))\n",
    "model.add(MaxPooling2D(pool_size=(2, 2)))\n",
    "model.add(Flatten())\n",
    "model.add(Dense(64, activation='relu'))\n",
    "model.add(Dense(62, activation='softmax'))\n",
    "\n",
    "model.compile(optimizer='adam', loss='categorical_crossentropy', metrics=['accuracy'])\n",
    "```\n",
    "\n",
    "This architecture is a relatively simple deep convolutional network. It achieves an accuracy of ~96% on the validation dataset. This model was the most accurate and simple model to arise from a few different variants. Listed below are some of the variants I tried out.\n",
    "\n",
    "* Decreasing the number of filters in the first convolutional layer from 64 to 16. This resulted in a faster training time. However, the accuracy decreased by ~2%.\n",
    "* Decreasing the number of filters in the first convolutional layer from 64 to 32. This resulted in a faster training time. However, the accuracy decreased by ~1%.\n",
    "* Adding a 0.2 dropout layer after the first max pooling layer. This did not affect accuracy.\n",
    "* Adding another convolutional and max pooling layer after the first max pooling layer. This did not affect accuracy.\n",
    "* Increasing the number of units in the first dense layer from 64 to 128. This did not affect accuracy.\n",
    "* Decreasing the number of units in the first dense layer from 64 to 32. This decreased accuracy by ~10%."
   ]
  },
  {
   "cell_type": "markdown",
   "metadata": {},
   "source": [
    "## Results\n",
    "\n",
    "When trained for 10 epochs with a batch size of 50, this network is able to obtain an accuracy of 96% with a ~0.15 loss on the validation dataset. "
   ]
  },
  {
   "cell_type": "markdown",
   "metadata": {},
   "source": [
    "## Benchmarks\n",
    "\n",
    "There are many different traffic sign datasets and benchmarks in common use today. Generalizing across datasets, state-of-the-art models are usually able to reach accuracies in the 94-98% range. This puts my model in the lower end of the spectrum for state-of-the-art models.\n",
    "\n",
    "Listed below are some articles and papers documenting traffic sign classification models and their accuracies:\n",
    "* https://arxiv.org/pdf/1805.12289.pdf\n",
    "* https://arxiv.org/ftp/arxiv/papers/1712/1712.04391.pdf\n",
    "* https://btsd.ethz.ch/shareddata/publications/Mathias-IJCNN-2013.pdf\n",
    "* https://towardsdatascience.com/recognizing-traffic-signs-with-over-98-accuracy-using-deep-learning-86737aedc2ab\n",
    "\n",
    "[This paper](https://btsd.ethz.ch/shareddata/publications/Mathias-IJCNN-2013.pdf) documents the performance of several models on the same BTSC dataset I used. My model is right around the average performance of other models, which is 95-97%. Interestingly, one model in this paper was able to achieve a superhuman performance of 99.46% on the dataset (human performance is 98.84%). However, the paper notes that \"this  quality  improvement  comes  to  the  price  of 37 hours of training on dedicated hardware (using 4 GPUs).\""
   ]
  },
  {
   "cell_type": "markdown",
   "metadata": {},
   "source": [
    "## Learning Curves\n",
    "\n",
    "Shown below is a plot of the model's accuracy on the training and validation datasets per epoch during training.\n",
    "<img src=\"assets/accuracy-per-epoch.png\" width=\"400\" style=\"margin: 15px\">\n",
    "\n",
    "Shown below is a plot of the model's loss on the training and validation datasets per epoch during training.\n",
    "<img src=\"assets/loss-per-epoch.png\" width=\"400\" style=\"margin: 15px\">"
   ]
  }
 ],
 "metadata": {
  "kernelspec": {
   "display_name": "Python 3",
   "language": "python",
   "name": "python3"
  },
  "language_info": {
   "codemirror_mode": {
    "name": "ipython",
    "version": 3
   },
   "file_extension": ".py",
   "mimetype": "text/x-python",
   "name": "python",
   "nbconvert_exporter": "python",
   "pygments_lexer": "ipython3",
   "version": "3.6.8"
  }
 },
 "nbformat": 4,
 "nbformat_minor": 2
}
