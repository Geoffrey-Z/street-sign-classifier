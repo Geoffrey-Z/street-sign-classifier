{
 "cells": [
  {
   "cell_type": "code",
   "execution_count": 1,
   "metadata": {},
   "outputs": [],
   "source": [
    "%matplotlib inline\n",
    "\n",
    "import matplotlib.pyplot as plt\n",
    "import matplotlib as mpl\n",
    "mpl.rcParams['figure.dpi'] = 100\n",
    "\n",
    "import sys\n",
    "sys.path.append('../../scripts')\n",
    "\n",
    "from btsc_dataset import load_full_dataset, split_images_and_labels, resize_images\n",
    "from utils import train_validation_test_split\n",
    "\n",
    "import numpy as np"
   ]
  },
  {
   "cell_type": "code",
   "execution_count": 2,
   "metadata": {},
   "outputs": [
    {
     "name": "stdout",
     "output_type": "stream",
     "text": [
      "Images: (7095, 32, 32, 3)\n",
      "Labels: (7095,)\n",
      "Total Unique Labels: 62\n"
     ]
    }
   ],
   "source": [
    "resized_data = resize_images(load_full_dataset(), size=32)\n",
    "(images, labels) = split_images_and_labels(resized_data)\n",
    "unique_labels = set(labels)\n",
    "\n",
    "print('Images:', images.shape)\n",
    "print('Labels:', labels.shape)\n",
    "print('Total Unique Labels:', len(unique_labels))"
   ]
  },
  {
   "cell_type": "code",
   "execution_count": 3,
   "metadata": {},
   "outputs": [
    {
     "name": "stderr",
     "output_type": "stream",
     "text": [
      "Using TensorFlow backend.\n"
     ]
    },
    {
     "name": "stdout",
     "output_type": "stream",
     "text": [
      "X: (7095, 32, 32, 3)\n",
      "y: (7095, 62)\n",
      "\n",
      "X_train: (4257, 32, 32, 3)\n",
      "y_train: (4257, 62)\n",
      "\n",
      "X_valid: (1419, 32, 32, 3)\n",
      "y_valid: (1419, 62)\n",
      "\n",
      "X_test: (1419, 32, 32, 3)\n",
      "y_test: (1419, 62)\n"
     ]
    }
   ],
   "source": [
    "from sklearn.preprocessing import LabelEncoder\n",
    "from keras.utils import to_categorical\n",
    "\n",
    "integer_labels= LabelEncoder().fit_transform(labels)\n",
    "ont_hot_labels = to_categorical(integer_labels)\n",
    "\n",
    "X = images\n",
    "y = ont_hot_labels\n",
    "\n",
    "X_train, X_valid, X_test, \\\n",
    "y_train, y_valid, y_test = train_validation_test_split(X, y, random_state=42)\n",
    "\n",
    "print('X:', X.shape)\n",
    "print('y:', y.shape)\n",
    "print()\n",
    "print('X_train:', X_train.shape)\n",
    "print('y_train:', y_train.shape)\n",
    "print()\n",
    "print('X_valid:', X_valid.shape)\n",
    "print('y_valid:', y_valid.shape)\n",
    "print()\n",
    "print('X_test:', X_test.shape)\n",
    "print('y_test:', y_test.shape)"
   ]
  },
  {
   "cell_type": "code",
   "execution_count": 4,
   "metadata": {},
   "outputs": [],
   "source": [
    "from keras.preprocessing.image import ImageDataGenerator\n",
    "\n",
    "datagen = ImageDataGenerator(\n",
    "    featurewise_center=True,\n",
    "    featurewise_std_normalization=True,\n",
    "    rotation_range=10,\n",
    "    width_shift_range=0.2,\n",
    "    height_shift_range=0.2,\n",
    ")\n",
    "\n",
    "datagen.fit(X_train)"
   ]
  },
  {
   "cell_type": "code",
   "execution_count": 5,
   "metadata": {},
   "outputs": [],
   "source": [
    "from keras.models import *\n",
    "from keras.layers import *\n",
    "from keras.callbacks import *\n",
    "from keras.applications import *\n",
    "\n",
    "vgg_model = VGG19(\n",
    "  weights='imagenet',\n",
    "  include_top=False,\n",
    "  input_shape=X[0].shape,\n",
    ")\n",
    "\n",
    "layer_dict = dict([(layer.name, layer) for layer in vgg_model.layers])\n",
    "\n",
    "x = layer_dict['block2_pool'].output\n",
    "\n",
    "x = Conv2D(filters=64, kernel_size=(3, 3), activation='relu')(x)\n",
    "x = MaxPooling2D(pool_size=(2, 2))(x)\n",
    "x = Flatten()(x)\n",
    "x = Dense(64, activation='relu')(x)\n",
    "x = Dense(len(unique_labels), activation='softmax')(x)\n",
    "\n",
    "model = Model(inputs=vgg_model.input, outputs=x)\n",
    "\n",
    "for layer in model.layers[0:7]:\n",
    "    layer.trainable = False\n",
    "\n",
    "model.compile(\n",
    "  loss='categorical_crossentropy',\n",
    "  optimizer='adam',\n",
    "  metrics=['accuracy'],\n",
    ")"
   ]
  },
  {
   "cell_type": "code",
   "execution_count": 6,
   "metadata": {
    "scrolled": false
   },
   "outputs": [
    {
     "name": "stdout",
     "output_type": "stream",
     "text": [
      "Epoch 1/50\n",
      "86/85 [==============================] - 23s 273ms/step - loss: 5.7384 - acc: 0.1545 - val_loss: 2.9874 - val_acc: 0.3206\n",
      "Epoch 2/50\n",
      "86/85 [==============================] - 22s 258ms/step - loss: 2.5620 - acc: 0.3899 - val_loss: 2.2422 - val_acc: 0.4729\n",
      "Epoch 3/50\n",
      "86/85 [==============================] - 23s 271ms/step - loss: 1.9728 - acc: 0.5047 - val_loss: 1.7198 - val_acc: 0.5786\n",
      "Epoch 4/50\n",
      "86/85 [==============================] - 22s 259ms/step - loss: 1.6715 - acc: 0.5545 - val_loss: 1.6061 - val_acc: 0.6237\n",
      "Epoch 5/50\n",
      "86/85 [==============================] - 22s 257ms/step - loss: 1.3598 - acc: 0.6238 - val_loss: 1.3806 - val_acc: 0.6547\n",
      "Epoch 6/50\n",
      "86/85 [==============================] - 23s 263ms/step - loss: 1.1577 - acc: 0.6695 - val_loss: 1.2476 - val_acc: 0.6927\n",
      "Epoch 7/50\n",
      "86/85 [==============================] - 23s 270ms/step - loss: 0.9962 - acc: 0.7136 - val_loss: 1.2220 - val_acc: 0.6843\n",
      "Epoch 8/50\n",
      "86/85 [==============================] - 22s 253ms/step - loss: 0.8835 - acc: 0.7395 - val_loss: 1.0306 - val_acc: 0.7555\n",
      "Epoch 9/50\n",
      "86/85 [==============================] - 22s 254ms/step - loss: 0.7587 - acc: 0.7779 - val_loss: 1.0511 - val_acc: 0.7273\n",
      "Epoch 10/50\n",
      "86/85 [==============================] - 22s 253ms/step - loss: 0.6542 - acc: 0.8109 - val_loss: 0.8772 - val_acc: 0.7886\n",
      "Epoch 11/50\n",
      "86/85 [==============================] - 22s 253ms/step - loss: 0.5210 - acc: 0.8442 - val_loss: 0.7740 - val_acc: 0.8217\n",
      "Epoch 12/50\n",
      "86/85 [==============================] - 22s 254ms/step - loss: 0.4603 - acc: 0.8604 - val_loss: 0.7738 - val_acc: 0.7977\n",
      "Epoch 13/50\n",
      "86/85 [==============================] - 22s 253ms/step - loss: 0.4024 - acc: 0.8760 - val_loss: 0.7022 - val_acc: 0.8323\n",
      "Epoch 14/50\n",
      "86/85 [==============================] - 22s 252ms/step - loss: 0.4098 - acc: 0.8732 - val_loss: 0.7056 - val_acc: 0.8245\n",
      "Epoch 15/50\n",
      "86/85 [==============================] - 22s 253ms/step - loss: 0.3255 - acc: 0.8953 - val_loss: 0.6589 - val_acc: 0.8252\n",
      "Epoch 16/50\n",
      "86/85 [==============================] - 22s 256ms/step - loss: 0.2910 - acc: 0.9037 - val_loss: 0.5137 - val_acc: 0.8710\n",
      "Epoch 17/50\n",
      "86/85 [==============================] - 22s 254ms/step - loss: 0.2643 - acc: 0.9172 - val_loss: 0.5861 - val_acc: 0.8358\n",
      "Epoch 18/50\n",
      "86/85 [==============================] - 22s 255ms/step - loss: 0.2558 - acc: 0.9163 - val_loss: 0.5097 - val_acc: 0.8689\n",
      "Epoch 19/50\n",
      "86/85 [==============================] - 22s 253ms/step - loss: 0.2561 - acc: 0.9209 - val_loss: 0.4358 - val_acc: 0.8943\n",
      "Epoch 20/50\n",
      "86/85 [==============================] - 22s 255ms/step - loss: 0.2457 - acc: 0.9251 - val_loss: 0.4788 - val_acc: 0.8809\n",
      "Epoch 21/50\n",
      "86/85 [==============================] - 22s 253ms/step - loss: 0.2083 - acc: 0.9384 - val_loss: 0.5090 - val_acc: 0.8788\n",
      "Epoch 22/50\n",
      "86/85 [==============================] - 22s 255ms/step - loss: 0.1948 - acc: 0.9419 - val_loss: 0.5079 - val_acc: 0.8647\n",
      "Epoch 23/50\n",
      "86/85 [==============================] - 22s 254ms/step - loss: 0.1660 - acc: 0.9486 - val_loss: 0.5149 - val_acc: 0.8675\n",
      "Epoch 24/50\n",
      "86/85 [==============================] - 22s 257ms/step - loss: 0.1811 - acc: 0.9458 - val_loss: 0.4404 - val_acc: 0.8767\n",
      "Epoch 25/50\n",
      "86/85 [==============================] - 22s 255ms/step - loss: 0.1873 - acc: 0.9421 - val_loss: 0.6174 - val_acc: 0.8189\n",
      "Epoch 26/50\n",
      "86/85 [==============================] - 22s 253ms/step - loss: 0.1527 - acc: 0.9521 - val_loss: 0.7269 - val_acc: 0.7724\n",
      "\n",
      "Epoch 00026: ReduceLROnPlateau reducing learning rate to 0.00010000000474974513.\n",
      "Epoch 27/50\n",
      "86/85 [==============================] - 22s 256ms/step - loss: 0.1165 - acc: 0.9642 - val_loss: 0.4119 - val_acc: 0.8788\n",
      "Epoch 28/50\n",
      "86/85 [==============================] - 22s 252ms/step - loss: 0.0963 - acc: 0.9726 - val_loss: 0.4128 - val_acc: 0.8795\n",
      "Epoch 29/50\n",
      "86/85 [==============================] - 22s 256ms/step - loss: 0.0864 - acc: 0.9758 - val_loss: 0.3842 - val_acc: 0.8971\n",
      "Epoch 30/50\n",
      "86/85 [==============================] - 22s 252ms/step - loss: 0.0888 - acc: 0.9733 - val_loss: 0.4058 - val_acc: 0.8837\n",
      "Epoch 31/50\n",
      "86/85 [==============================] - 22s 253ms/step - loss: 0.0867 - acc: 0.9753 - val_loss: 0.3892 - val_acc: 0.8879\n",
      "Epoch 32/50\n",
      "86/85 [==============================] - 23s 265ms/step - loss: 0.0814 - acc: 0.9746 - val_loss: 0.3798 - val_acc: 0.8957\n",
      "Epoch 33/50\n",
      "86/85 [==============================] - 23s 270ms/step - loss: 0.0860 - acc: 0.9770 - val_loss: 0.3401 - val_acc: 0.9077\n",
      "Epoch 34/50\n",
      "86/85 [==============================] - 23s 270ms/step - loss: 0.0885 - acc: 0.9751 - val_loss: 0.3509 - val_acc: 0.9056\n",
      "Epoch 35/50\n",
      "86/85 [==============================] - 22s 259ms/step - loss: 0.0772 - acc: 0.9779 - val_loss: 0.3421 - val_acc: 0.9098\n",
      "Epoch 36/50\n",
      "86/85 [==============================] - 19s 218ms/step - loss: 0.0822 - acc: 0.9730 - val_loss: 0.3486 - val_acc: 0.9091\n",
      "Epoch 37/50\n",
      "86/85 [==============================] - 19s 220ms/step - loss: 0.0776 - acc: 0.9749 - val_loss: 0.3671 - val_acc: 0.8943\n",
      "Epoch 38/50\n",
      "86/85 [==============================] - 19s 220ms/step - loss: 0.0690 - acc: 0.9791 - val_loss: 0.3626 - val_acc: 0.8985\n",
      "Epoch 39/50\n",
      "86/85 [==============================] - 19s 220ms/step - loss: 0.0726 - acc: 0.9779 - val_loss: 0.4072 - val_acc: 0.8802\n",
      "Epoch 40/50\n",
      "86/85 [==============================] - 19s 219ms/step - loss: 0.0703 - acc: 0.9788 - val_loss: 0.3887 - val_acc: 0.8802\n",
      "\n",
      "Epoch 00040: ReduceLROnPlateau reducing learning rate to 1.0000000474974514e-05.\n",
      "Epoch 41/50\n",
      "86/85 [==============================] - 19s 219ms/step - loss: 0.0824 - acc: 0.9751 - val_loss: 0.3834 - val_acc: 0.8837\n",
      "Epoch 42/50\n",
      "86/85 [==============================] - 19s 219ms/step - loss: 0.0689 - acc: 0.9786 - val_loss: 0.3747 - val_acc: 0.8887\n",
      "Epoch 43/50\n",
      "86/85 [==============================] - 19s 220ms/step - loss: 0.0711 - acc: 0.9798 - val_loss: 0.3745 - val_acc: 0.8901\n"
     ]
    }
   ],
   "source": [
    "early_stopping = EarlyStopping(\n",
    "    monitor='val_loss', \n",
    "    patience=10, \n",
    "    verbose=0, \n",
    "    mode='min',\n",
    ")\n",
    "model_checkpoint = ModelCheckpoint(\n",
    "    'vgg19_augmentation_weights.hdf5', \n",
    "    save_best_only=True, \n",
    "    monitor='val_loss', \n",
    "    mode='min',\n",
    ")\n",
    "reduce_lr_loss = ReduceLROnPlateau(\n",
    "    monitor='val_loss', \n",
    "    factor=0.1, \n",
    "    patience=7, \n",
    "    verbose=1, \n",
    "    min_delta=1e-4, \n",
    "    mode='min',\n",
    ")\n",
    "\n",
    "history = model.fit_generator(\n",
    "    datagen.flow(X_train, y_train, batch_size=50),\n",
    "    validation_data=(X_valid, y_valid), \n",
    "    steps_per_epoch=len(X_train) / 50,\n",
    "    epochs=50, \n",
    "    verbose=1,\n",
    "    callbacks=[early_stopping, model_checkpoint, reduce_lr_loss], \n",
    ")\n",
    "\n",
    "model.load_weights('vgg19_augmentation_weights.hdf5')"
   ]
  },
  {
   "cell_type": "code",
   "execution_count": 7,
   "metadata": {},
   "outputs": [
    {
     "data": {
      "image/png": "[encoded data removed]",
      "text/plain": [
       "<Figure size 432x288 with 1 Axes>"
      ]
     },
     "metadata": {
      "needs_background": "light"
     },
     "output_type": "display_data"
    }
   ],
   "source": [
    "# Plot training & validation accuracies per epoch\n",
    "plt.plot(history.history['acc'])\n",
    "plt.plot(history.history['val_acc'])\n",
    "plt.title('Model Accuracy')\n",
    "plt.ylabel('accuracy')\n",
    "plt.xlabel('epoch')\n",
    "plt.legend(['Train', 'Validation'], loc='lower right')\n",
    "plt.show()"
   ]
  },
  {
   "cell_type": "code",
   "execution_count": 8,
   "metadata": {},
   "outputs": [
    {
     "data": {
      "image/png": "[encoded data removed]",
      "text/plain": [
       "<Figure size 432x288 with 1 Axes>"
      ]
     },
     "metadata": {
      "needs_background": "light"
     },
     "output_type": "display_data"
    }
   ],
   "source": [
    "# Plot training & validation losses per epoch\n",
    "plt.plot(history.history['loss'])\n",
    "plt.plot(history.history['val_loss'])\n",
    "plt.title('Model Loss')\n",
    "plt.ylabel('loss')\n",
    "plt.xlabel('epoch')\n",
    "plt.legend(['Train', 'Validation'], loc='upper right')\n",
    "plt.show()"
   ]
  },
  {
   "cell_type": "code",
   "execution_count": 10,
   "metadata": {},
   "outputs": [
    {
     "name": "stdout",
     "output_type": "stream",
     "text": [
      "1419/1419 [==============================] - 4s 3ms/step\n",
      "Test Results:\n",
      "  Loss     = 0.3555592783241729\n",
      "  Accuracy = 0.9069767443960699\n"
     ]
    }
   ],
   "source": [
    "loss, acc = model.evaluate(X_test, y_test, verbose=1)\n",
    "\n",
    "print('Test Results:')\n",
    "print('  Loss     =', loss)\n",
    "print('  Accuracy =', acc)"
   ]
  }
 ],
 "metadata": {
  "kernelspec": {
   "display_name": "Python 3",
   "language": "python",
   "name": "python3"
  },
  "language_info": {
   "codemirror_mode": {
    "name": "ipython",
    "version": 3
   },
   "file_extension": ".py",
   "mimetype": "text/x-python",
   "name": "python",
   "nbconvert_exporter": "python",
   "pygments_lexer": "ipython3",
   "version": "3.6.8"
  }
 },
 "nbformat": 4,
 "nbformat_minor": 2
}
