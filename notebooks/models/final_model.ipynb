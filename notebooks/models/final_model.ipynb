{
 "cells": [
  {
   "cell_type": "code",
   "execution_count": 17,
   "metadata": {},
   "outputs": [],
   "source": [
    "%matplotlib inline\n",
    "\n",
    "import matplotlib.pyplot as plt\n",
    "import matplotlib as mpl\n",
    "mpl.rcParams['figure.dpi'] = 100\n",
    "\n",
    "import sys\n",
    "sys.path.append('../../scripts')\n",
    "\n",
    "from btsc_dataset import load_full_dataset, split_images_and_labels, resize_images\n",
    "from utils import train_validation_test_split\n",
    "\n",
    "import numpy as np"
   ]
  },
  {
   "cell_type": "code",
   "execution_count": 18,
   "metadata": {},
   "outputs": [
    {
     "name": "stdout",
     "output_type": "stream",
     "text": [
      "Images: (7095, 32, 32, 3)\n",
      "Labels: (7095,)\n",
      "Total Unique Labels: 62\n"
     ]
    }
   ],
   "source": [
    "resized_data = resize_images(load_full_dataset(), size=32)\n",
    "(images, labels) = split_images_and_labels(resized_data)\n",
    "unique_labels = set(labels)\n",
    "\n",
    "print('Images:', images.shape)\n",
    "print('Labels:', labels.shape)\n",
    "print('Total Unique Labels:', len(unique_labels))"
   ]
  },
  {
   "cell_type": "code",
   "execution_count": 19,
   "metadata": {},
   "outputs": [
    {
     "name": "stdout",
     "output_type": "stream",
     "text": [
      "X: (7095, 32, 32, 3)\n",
      "y: (7095, 62)\n",
      "\n",
      "X_train: (4257, 32, 32, 3)\n",
      "y_train: (4257, 62)\n",
      "\n",
      "X_valid: (1419, 32, 32, 3)\n",
      "y_valid: (1419, 62)\n",
      "\n",
      "X_test: (1419, 32, 32, 3)\n",
      "y_test: (1419, 62)\n"
     ]
    }
   ],
   "source": [
    "from sklearn.preprocessing import LabelEncoder\n",
    "from keras.utils import to_categorical\n",
    "\n",
    "integer_labels= LabelEncoder().fit_transform(labels)\n",
    "ont_hot_labels = to_categorical(integer_labels)\n",
    "\n",
    "X = images\n",
    "y = ont_hot_labels\n",
    "\n",
    "X_train, X_valid, X_test, \\\n",
    "y_train, y_valid, y_test = train_validation_test_split(X, y, random_state=42)\n",
    "\n",
    "print('X:', X.shape)\n",
    "print('y:', y.shape)\n",
    "print()\n",
    "print('X_train:', X_train.shape)\n",
    "print('y_train:', y_train.shape)\n",
    "print()\n",
    "print('X_valid:', X_valid.shape)\n",
    "print('y_valid:', y_valid.shape)\n",
    "print()\n",
    "print('X_test:', X_test.shape)\n",
    "print('y_test:', y_test.shape)"
   ]
  },
  {
   "cell_type": "code",
   "execution_count": 20,
   "metadata": {},
   "outputs": [],
   "source": [
    "from keras.models import *\n",
    "from keras.layers import *\n",
    "from keras.callbacks import *\n",
    "from keras.applications import *\n",
    "\n",
    "vgg_model = VGG19(\n",
    "  weights='imagenet',\n",
    "  include_top=False,\n",
    "  input_shape=X[0].shape,\n",
    ")\n",
    "\n",
    "layer_dict = dict([(layer.name, layer) for layer in vgg_model.layers])\n",
    "\n",
    "x = layer_dict['block2_pool'].output\n",
    "\n",
    "x = Conv2D(filters=64, kernel_size=(3, 3), activation='relu')(x)\n",
    "x = MaxPooling2D(pool_size=(2, 2))(x)\n",
    "x = Flatten()(x)\n",
    "x = Dense(64, activation='relu')(x)\n",
    "x = Dense(len(unique_labels), activation='softmax')(x)\n",
    "\n",
    "model = Model(inputs=vgg_model.input, outputs=x)\n",
    "\n",
    "for layer in model.layers[0:7]:\n",
    "    layer.trainable = False\n",
    "\n",
    "model.compile(\n",
    "  loss='categorical_crossentropy',\n",
    "  optimizer='adam',\n",
    "  metrics=['accuracy'],\n",
    ")"
   ]
  },
  {
   "cell_type": "code",
   "execution_count": 21,
   "metadata": {
    "scrolled": false
   },
   "outputs": [
    {
     "name": "stdout",
     "output_type": "stream",
     "text": [
      "Train on 4257 samples, validate on 1419 samples\n",
      "Epoch 1/50\n",
      "4257/4257 [==============================] - 22s 5ms/step - loss: 2.2022 - acc: 0.5924 - val_loss: 0.8523 - val_acc: 0.8069\n",
      "Epoch 2/50\n",
      "4257/4257 [==============================] - 22s 5ms/step - loss: 0.5470 - acc: 0.8825 - val_loss: 0.4171 - val_acc: 0.9084\n",
      "Epoch 3/50\n",
      "4257/4257 [==============================] - 20s 5ms/step - loss: 0.2594 - acc: 0.9361 - val_loss: 0.2500 - val_acc: 0.9401\n",
      "Epoch 4/50\n",
      "4257/4257 [==============================] - 20s 5ms/step - loss: 0.1090 - acc: 0.9732 - val_loss: 0.2095 - val_acc: 0.9563\n",
      "Epoch 5/50\n",
      "4257/4257 [==============================] - 20s 5ms/step - loss: 0.0885 - acc: 0.9770 - val_loss: 0.2207 - val_acc: 0.9493\n",
      "Epoch 6/50\n",
      "4257/4257 [==============================] - 20s 5ms/step - loss: 0.0303 - acc: 0.9939 - val_loss: 0.1427 - val_acc: 0.9676\n",
      "Epoch 7/50\n",
      "4257/4257 [==============================] - 21s 5ms/step - loss: 0.0167 - acc: 0.9972 - val_loss: 0.1547 - val_acc: 0.9626\n",
      "Epoch 8/50\n",
      "4257/4257 [==============================] - 21s 5ms/step - loss: 0.0143 - acc: 0.9974 - val_loss: 0.1346 - val_acc: 0.9669\n",
      "Epoch 9/50\n",
      "4257/4257 [==============================] - 21s 5ms/step - loss: 0.0043 - acc: 1.0000 - val_loss: 0.1338 - val_acc: 0.9690\n",
      "Epoch 10/50\n",
      "4257/4257 [==============================] - 21s 5ms/step - loss: 0.0027 - acc: 1.0000 - val_loss: 0.1352 - val_acc: 0.9690\n",
      "Epoch 11/50\n",
      "4257/4257 [==============================] - 22s 5ms/step - loss: 0.0025 - acc: 0.9998 - val_loss: 0.1393 - val_acc: 0.9711\n",
      "Epoch 12/50\n",
      "4257/4257 [==============================] - 20s 5ms/step - loss: 0.0021 - acc: 1.0000 - val_loss: 0.1324 - val_acc: 0.9690\n",
      "Epoch 13/50\n",
      "4257/4257 [==============================] - 20s 5ms/step - loss: 0.0014 - acc: 1.0000 - val_loss: 0.1331 - val_acc: 0.9697\n",
      "Epoch 14/50\n",
      "4257/4257 [==============================] - 20s 5ms/step - loss: 0.0011 - acc: 1.0000 - val_loss: 0.1297 - val_acc: 0.9718\n",
      "Epoch 15/50\n",
      "4257/4257 [==============================] - 20s 5ms/step - loss: 9.2962e-04 - acc: 1.0000 - val_loss: 0.1309 - val_acc: 0.9718\n",
      "Epoch 16/50\n",
      "4257/4257 [==============================] - 20s 5ms/step - loss: 8.4209e-04 - acc: 1.0000 - val_loss: 0.1304 - val_acc: 0.9704\n",
      "Epoch 17/50\n",
      "4257/4257 [==============================] - 20s 5ms/step - loss: 7.2915e-04 - acc: 1.0000 - val_loss: 0.1305 - val_acc: 0.9704\n",
      "Epoch 18/50\n",
      "4257/4257 [==============================] - 21s 5ms/step - loss: 6.5423e-04 - acc: 1.0000 - val_loss: 0.1299 - val_acc: 0.9697\n",
      "Epoch 19/50\n",
      "4257/4257 [==============================] - 21s 5ms/step - loss: 5.9640e-04 - acc: 1.0000 - val_loss: 0.1325 - val_acc: 0.9697\n",
      "Epoch 20/50\n",
      "4257/4257 [==============================] - 21s 5ms/step - loss: 5.4607e-04 - acc: 1.0000 - val_loss: 0.1309 - val_acc: 0.9704\n",
      "Epoch 21/50\n",
      "4257/4257 [==============================] - 20s 5ms/step - loss: 4.9455e-04 - acc: 1.0000 - val_loss: 0.1305 - val_acc: 0.9704\n",
      "\n",
      "Epoch 00021: ReduceLROnPlateau reducing learning rate to 0.00010000000474974513.\n",
      "Epoch 22/50\n",
      "4257/4257 [==============================] - 21s 5ms/step - loss: 4.4236e-04 - acc: 1.0000 - val_loss: 0.1305 - val_acc: 0.9711\n",
      "Epoch 23/50\n",
      "4257/4257 [==============================] - 21s 5ms/step - loss: 4.3122e-04 - acc: 1.0000 - val_loss: 0.1303 - val_acc: 0.9711\n",
      "Epoch 24/50\n",
      "4257/4257 [==============================] - 21s 5ms/step - loss: 4.2638e-04 - acc: 1.0000 - val_loss: 0.1306 - val_acc: 0.9704\n"
     ]
    }
   ],
   "source": [
    "early_stopping = EarlyStopping(\n",
    "    monitor='val_loss', \n",
    "    patience=10, \n",
    "    verbose=0, \n",
    "    mode='min',\n",
    ")\n",
    "model_checkpoint = ModelCheckpoint(\n",
    "    'vgg19_final_weights.hdf5', \n",
    "    save_best_only=True, \n",
    "    save_weights_only=True,\n",
    "    monitor='val_loss', \n",
    "    mode='min',\n",
    ")\n",
    "reduce_lr_loss = ReduceLROnPlateau(\n",
    "    monitor='val_loss', \n",
    "    factor=0.1, \n",
    "    patience=7, \n",
    "    verbose=1, \n",
    "    min_delta=1e-4, \n",
    "    mode='min',\n",
    ")\n",
    "\n",
    "history = model.fit(\n",
    "    X_train, \n",
    "    y_train, \n",
    "    validation_data=(X_valid, y_valid), \n",
    "    batch_size=50, \n",
    "    epochs=50, \n",
    "    verbose=1,\n",
    "    callbacks=[early_stopping, model_checkpoint, reduce_lr_loss], \n",
    ")\n",
    "\n",
    "model.load_weights('vgg19_final_weights.hdf5')"
   ]
  },
  {
   "cell_type": "code",
   "execution_count": 22,
   "metadata": {},
   "outputs": [
    {
     "data": {
      "image/png": "[encoded data removed]",
      "text/plain": [
       "<Figure size 600x400 with 1 Axes>"
      ]
     },
     "metadata": {
      "needs_background": "light"
     },
     "output_type": "display_data"
    }
   ],
   "source": [
    "# Plot training & validation accuracies per epoch\n",
    "plt.plot(history.history['acc'])\n",
    "plt.plot(history.history['val_acc'])\n",
    "plt.title('Model Accuracy')\n",
    "plt.ylabel('accuracy')\n",
    "plt.xlabel('epoch')\n",
    "plt.legend(['Train', 'Validation'], loc='lower right')\n",
    "plt.show()"
   ]
  },
  {
   "cell_type": "code",
   "execution_count": 23,
   "metadata": {},
   "outputs": [
    {
     "data": {
      "image/png": "[encoded data removed]",
      "text/plain": [
       "<Figure size 600x400 with 1 Axes>"
      ]
     },
     "metadata": {
      "needs_background": "light"
     },
     "output_type": "display_data"
    }
   ],
   "source": [
    "# Plot training & validation losses per epoch\n",
    "plt.plot(history.history['loss'])\n",
    "plt.plot(history.history['val_loss'])\n",
    "plt.title('Model Loss')\n",
    "plt.ylabel('loss')\n",
    "plt.xlabel('epoch')\n",
    "plt.legend(['Train', 'Validation'], loc='upper right')\n",
    "plt.show()"
   ]
  },
  {
   "cell_type": "code",
   "execution_count": 24,
   "metadata": {},
   "outputs": [
    {
     "name": "stdout",
     "output_type": "stream",
     "text": [
      "1419/1419 [==============================] - 5s 3ms/step\n",
      "Test Results:\n",
      "  Loss     = 0.10826270338449788\n",
      "  Accuracy = 0.9732205778717407\n"
     ]
    }
   ],
   "source": [
    "loss, acc = model.evaluate(X_test, y_test, verbose=1)\n",
    "\n",
    "print('Test Results:')\n",
    "print('  Loss     =', loss)\n",
    "print('  Accuracy =', acc)"
   ]
  }
 ],
 "metadata": {
  "kernelspec": {
   "display_name": "Python 3",
   "language": "python",
   "name": "python3"
  },
  "language_info": {
   "codemirror_mode": {
    "name": "ipython",
    "version": 3
   },
   "file_extension": ".py",
   "mimetype": "text/x-python",
   "name": "python",
   "nbconvert_exporter": "python",
   "pygments_lexer": "ipython3",
   "version": "3.6.8"
  }
 },
 "nbformat": 4,
 "nbformat_minor": 2
}
