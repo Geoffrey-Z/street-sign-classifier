{
 "cells": [
  {
   "cell_type": "code",
   "execution_count": 1,
   "metadata": {},
   "outputs": [],
   "source": [
    "import sys\n",
    "\n",
    "sys.path.append('../scripts')\n",
    "from btsc_dataset import load_training, split_images_and_labels, resize_images"
   ]
  },
  {
   "cell_type": "code",
   "execution_count": 2,
   "metadata": {},
   "outputs": [
    {
     "name": "stdout",
     "output_type": "stream",
     "text": [
      "Images: (4575, 32, 32, 3)\n",
      "Labels: (4575,)\n",
      "Total Unique Labels: 62\n"
     ]
    }
   ],
   "source": [
    "resized_data = resize_images(load_training(), size=32)\n",
    "(images, labels) = split_images_and_labels(resized_data)\n",
    "\n",
    "print('Images:', images.shape)\n",
    "print('Labels:', labels.shape)\n",
    "print('Total Unique Labels:', len(set(labels)))"
   ]
  },
  {
   "cell_type": "code",
   "execution_count": 4,
   "metadata": {},
   "outputs": [
    {
     "name": "stdout",
     "output_type": "stream",
     "text": [
      "X: (4575, 32, 32, 3)\n",
      "Y: (4575, 62)\n",
      "\n",
      "X_train: (3065, 32, 32, 3)\n",
      "Y_train: (3065, 62)\n",
      "\n",
      "X_test: (1510, 32, 32, 3)\n",
      "Y_test: (1510, 62)\n"
     ]
    }
   ],
   "source": [
    "from sklearn.preprocessing import LabelEncoder\n",
    "from sklearn.model_selection import train_test_split\n",
    "from keras.utils import to_categorical\n",
    "\n",
    "integer_labels= LabelEncoder().fit_transform(labels)\n",
    "ont_hot_labels = to_categorical(integer_labels)\n",
    "\n",
    "X = images\n",
    "Y = ont_hot_labels\n",
    "\n",
    "X_train, X_test, Y_train, Y_test = train_test_split(X, Y, test_size=0.33, random_state=42)\n",
    "\n",
    "print('X:', X.shape)\n",
    "print('Y:', Y.shape)\n",
    "print()\n",
    "print('X_train:', X_train.shape)\n",
    "print('Y_train:', Y_train.shape)\n",
    "print()\n",
    "print('X_test:', X_test.shape)\n",
    "print('Y_test:', Y_test.shape)"
   ]
  },
  {
   "cell_type": "code",
   "execution_count": 6,
   "metadata": {},
   "outputs": [],
   "source": [
    "from keras.models import *\n",
    "from keras.layers import *\n",
    "\n",
    "model = Sequential()\n",
    "\n",
    "model.add(Conv2D(16, (3, 3), input_shape=(32, 32, 3), activation='relu'))\n",
    "model.add(MaxPooling2D(pool_size=(2, 2)))\n",
    "model.add(Flatten())\n",
    "\n",
    "model.add(Dense(62, activation='relu'))\n",
    "model.add(Dense(62, activation='softmax'))\n",
    "\n",
    "model.compile(optimizer='adam', loss='categorical_crossentropy', metrics=['accuracy'])"
   ]
  },
  {
   "cell_type": "code",
   "execution_count": 7,
   "metadata": {},
   "outputs": [
    {
     "name": "stdout",
     "output_type": "stream",
     "text": [
      "Epoch 1/10\n",
      "3065/3065 [==============================] - 6s 2ms/step - loss: 2.3324 - acc: 0.4744\n",
      "Epoch 2/10\n",
      "3065/3065 [==============================] - 5s 2ms/step - loss: 0.8907 - acc: 0.7997\n",
      "Epoch 3/10\n",
      "3065/3065 [==============================] - 5s 2ms/step - loss: 0.4333 - acc: 0.8933\n",
      "Epoch 4/10\n",
      "3065/3065 [==============================] - 5s 2ms/step - loss: 0.2333 - acc: 0.9423\n",
      "Epoch 5/10\n",
      "3065/3065 [==============================] - 5s 2ms/step - loss: 0.1306 - acc: 0.9697\n",
      "Epoch 6/10\n",
      "3065/3065 [==============================] - 5s 2ms/step - loss: 0.0882 - acc: 0.9804\n",
      "Epoch 7/10\n",
      "3065/3065 [==============================] - 5s 2ms/step - loss: 0.0562 - acc: 0.9869\n",
      "Epoch 8/10\n",
      "3065/3065 [==============================] - 5s 2ms/step - loss: 0.0387 - acc: 0.9925\n",
      "Epoch 9/10\n",
      "3065/3065 [==============================] - 5s 2ms/step - loss: 0.0423 - acc: 0.9922\n",
      "Epoch 10/10\n",
      "3065/3065 [==============================] - 5s 2ms/step - loss: 0.0279 - acc: 0.9948\n"
     ]
    },
    {
     "data": {
      "text/plain": [
       "<keras.callbacks.History at 0x1c47d7b5f8>"
      ]
     },
     "execution_count": 7,
     "metadata": {},
     "output_type": "execute_result"
    }
   ],
   "source": [
    "model.fit(X_train, Y_train, batch_size=5, epochs=10, verbose=1)"
   ]
  },
  {
   "cell_type": "code",
   "execution_count": 8,
   "metadata": {},
   "outputs": [
    {
     "name": "stdout",
     "output_type": "stream",
     "text": [
      "1510/1510 [==============================] - 0s 270us/step\n",
      "Loss:     0.2299539740225886\n",
      "Accuracy: 0.9463576158940398\n"
     ]
    }
   ],
   "source": [
    "loss, acc = model.evaluate(X_test, Y_test, verbose=1)\n",
    "\n",
    "print('Loss:    ', loss)\n",
    "print('Accuracy:', acc)"
   ]
  },
  {
   "cell_type": "code",
   "execution_count": null,
   "metadata": {},
   "outputs": [],
   "source": []
  }
 ],
 "metadata": {
  "kernelspec": {
   "display_name": "Python 3",
   "language": "python",
   "name": "python3"
  },
  "language_info": {
   "codemirror_mode": {
    "name": "ipython",
    "version": 3
   },
   "file_extension": ".py",
   "mimetype": "text/x-python",
   "name": "python",
   "nbconvert_exporter": "python",
   "pygments_lexer": "ipython3",
   "version": "3.6.8"
  }
 },
 "nbformat": 4,
 "nbformat_minor": 2
}
