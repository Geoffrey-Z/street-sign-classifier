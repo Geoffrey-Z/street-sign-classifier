{
 "cells": [
  {
   "cell_type": "code",
   "execution_count": 1,
   "metadata": {},
   "outputs": [],
   "source": [
    "%matplotlib inline\n",
    "\n",
    "import matplotlib.pyplot as plt\n",
    "import matplotlib as mpl\n",
    "mpl.rcParams['figure.dpi'] = 75\n",
    "\n",
    "import sys\n",
    "sys.path.append('../scripts')\n",
    "\n",
    "from btsc_dataset import load_full_dataset, split_images_and_labels, resize_images\n",
    "from utils import train_validation_test_split\n",
    "\n",
    "import numpy as np"
   ]
  },
  {
   "cell_type": "code",
   "execution_count": 2,
   "metadata": {},
   "outputs": [
    {
     "name": "stdout",
     "output_type": "stream",
     "text": [
      "Images: (7095, 32, 32, 3)\n",
      "Labels: (7095,)\n",
      "Total Unique Labels: 62\n"
     ]
    }
   ],
   "source": [
    "resized_data = resize_images(load_full_dataset(), size=32)\n",
    "(images, labels) = split_images_and_labels(resized_data)\n",
    "unique_labels = set(labels)\n",
    "\n",
    "print('Images:', images.shape)\n",
    "print('Labels:', labels.shape)\n",
    "print('Total Unique Labels:', len(unique_labels))"
   ]
  },
  {
   "cell_type": "code",
   "execution_count": 3,
   "metadata": {},
   "outputs": [
    {
     "name": "stderr",
     "output_type": "stream",
     "text": [
      "Using TensorFlow backend.\n"
     ]
    },
    {
     "name": "stdout",
     "output_type": "stream",
     "text": [
      "X: (7095, 32, 32, 3)\n",
      "y: (7095, 62)\n",
      "\n",
      "X_train: (4257, 32, 32, 3)\n",
      "y_train: (4257, 62)\n",
      "\n",
      "X_valid: (1419, 32, 32, 3)\n",
      "y_valid: (1419, 62)\n",
      "\n",
      "X_test: (1419, 32, 32, 3)\n",
      "y_test: (1419, 62)\n"
     ]
    }
   ],
   "source": [
    "from sklearn.preprocessing import LabelEncoder\n",
    "from keras.utils import to_categorical\n",
    "\n",
    "integer_labels= LabelEncoder().fit_transform(labels)\n",
    "ont_hot_labels = to_categorical(integer_labels)\n",
    "\n",
    "X = images\n",
    "y = ont_hot_labels\n",
    "\n",
    "X_train, X_valid, X_test, \\\n",
    "y_train, y_valid, y_test = train_validation_test_split(X, y, random_state=42)\n",
    "\n",
    "print('X:', X.shape)\n",
    "print('y:', y.shape)\n",
    "print()\n",
    "print('X_train:', X_train.shape)\n",
    "print('y_train:', y_train.shape)\n",
    "print()\n",
    "print('X_valid:', X_valid.shape)\n",
    "print('y_valid:', y_valid.shape)\n",
    "print()\n",
    "print('X_test:', X_test.shape)\n",
    "print('y_test:', y_test.shape)"
   ]
  },
  {
   "cell_type": "code",
   "execution_count": 4,
   "metadata": {},
   "outputs": [],
   "source": [
    "from keras.models import *\n",
    "from keras.layers import *\n",
    "\n",
    "model = Sequential()\n",
    "\n",
    "model.add(Conv2D(64, (3, 3), input_shape=X[0].shape, activation='relu'))\n",
    "model.add(MaxPooling2D(pool_size=(2, 2)))\n",
    "\n",
    "model.add(Flatten())\n",
    "model.add(Dense(64, activation='relu'))\n",
    "model.add(Dense(len(unique_labels), activation='softmax'))\n",
    "\n",
    "model.compile(optimizer='adam', loss='categorical_crossentropy', metrics=['accuracy'])"
   ]
  },
  {
   "cell_type": "code",
   "execution_count": 5,
   "metadata": {},
   "outputs": [
    {
     "name": "stdout",
     "output_type": "stream",
     "text": [
      "Train on 4257 samples, validate on 1419 samples\n",
      "Epoch 1/10\n",
      "4257/4257 [==============================] - 6s 1ms/step - loss: 2.5604 - acc: 0.4513 - val_loss: 1.5844 - val_acc: 0.6455\n",
      "Epoch 2/10\n",
      "4257/4257 [==============================] - 5s 1ms/step - loss: 1.1643 - acc: 0.7564 - val_loss: 0.8251 - val_acc: 0.8280\n",
      "Epoch 3/10\n",
      "4257/4257 [==============================] - 5s 1ms/step - loss: 0.6165 - acc: 0.8663 - val_loss: 0.5281 - val_acc: 0.8717\n",
      "Epoch 4/10\n",
      "4257/4257 [==============================] - 5s 1ms/step - loss: 0.3571 - acc: 0.9258 - val_loss: 0.3571 - val_acc: 0.9105\n",
      "Epoch 5/10\n",
      "4257/4257 [==============================] - 5s 1ms/step - loss: 0.2330 - acc: 0.9500 - val_loss: 0.2807 - val_acc: 0.9246\n",
      "Epoch 6/10\n",
      "4257/4257 [==============================] - 5s 1ms/step - loss: 0.1618 - acc: 0.9669 - val_loss: 0.2547 - val_acc: 0.9323\n",
      "Epoch 7/10\n",
      "4257/4257 [==============================] - 5s 1ms/step - loss: 0.1096 - acc: 0.9763 - val_loss: 0.2177 - val_acc: 0.9429\n",
      "Epoch 8/10\n",
      "4257/4257 [==============================] - 5s 1ms/step - loss: 0.0785 - acc: 0.9866 - val_loss: 0.1698 - val_acc: 0.9591\n",
      "Epoch 9/10\n",
      "4257/4257 [==============================] - 5s 1ms/step - loss: 0.0550 - acc: 0.9897 - val_loss: 0.1727 - val_acc: 0.9514\n",
      "Epoch 10/10\n",
      "4257/4257 [==============================] - 5s 1ms/step - loss: 0.0401 - acc: 0.9941 - val_loss: 0.1589 - val_acc: 0.9584\n"
     ]
    }
   ],
   "source": [
    "history = model.fit(X_train, y_train, validation_data=(X_valid, y_valid), batch_size=50, epochs=10, verbose=1)"
   ]
  },
  {
   "cell_type": "code",
   "execution_count": 6,
   "metadata": {},
   "outputs": [
    {
     "data": {
      "image/png": "[encoded data removed]",
      "text/plain": [
       "<Figure size 432x288 with 1 Axes>"
      ]
     },
     "metadata": {
      "needs_background": "light"
     },
     "output_type": "display_data"
    }
   ],
   "source": [
    "# Plot training & validation accuracies per epoch\n",
    "plt.plot(history.history['acc'])\n",
    "plt.plot(history.history['val_acc'])\n",
    "plt.title('Model Accuracy')\n",
    "plt.ylabel('accuracy')\n",
    "plt.xlabel('epoch')\n",
    "plt.legend(['Train', 'Validation'], loc='lower right')\n",
    "plt.show()"
   ]
  },
  {
   "cell_type": "code",
   "execution_count": 7,
   "metadata": {},
   "outputs": [
    {
     "data": {
      "image/png": "[encoded data removed]",
      "text/plain": [
       "<Figure size 432x288 with 1 Axes>"
      ]
     },
     "metadata": {
      "needs_background": "light"
     },
     "output_type": "display_data"
    }
   ],
   "source": [
    "# Plot training & validation losses per epoch\n",
    "plt.plot(history.history['loss'])\n",
    "plt.plot(history.history['val_loss'])\n",
    "plt.title('Model Loss')\n",
    "plt.ylabel('loss')\n",
    "plt.xlabel('epoch')\n",
    "plt.legend(['Train', 'Validation'], loc='upper right')\n",
    "plt.show()"
   ]
  },
  {
   "cell_type": "code",
   "execution_count": 8,
   "metadata": {},
   "outputs": [],
   "source": [
    "# loss, acc = model.evaluate(X_test, y_test, verbose=1)\n",
    "\n",
    "# print('Test Results:')\n",
    "# print('  Loss     =', loss)\n",
    "# print('  Accuracy =', acc)"
   ]
  },
  {
   "cell_type": "code",
   "execution_count": null,
   "metadata": {},
   "outputs": [],
   "source": []
  }
 ],
 "metadata": {
  "kernelspec": {
   "display_name": "Python 3",
   "language": "python",
   "name": "python3"
  },
  "language_info": {
   "codemirror_mode": {
    "name": "ipython",
    "version": 3
   },
   "file_extension": ".py",
   "mimetype": "text/x-python",
   "name": "python",
   "nbconvert_exporter": "python",
   "pygments_lexer": "ipython3",
   "version": "3.6.8"
  }
 },
 "nbformat": 4,
 "nbformat_minor": 2
}
