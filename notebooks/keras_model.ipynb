{
 "cells": [
  {
   "cell_type": "code",
   "execution_count": 1,
   "metadata": {},
   "outputs": [],
   "source": [
    "%matplotlib inline\n",
    "\n",
    "import matplotlib.pyplot as plt\n",
    "import matplotlib as mpl\n",
    "mpl.rcParams['figure.dpi'] = 75\n",
    "\n",
    "import sys\n",
    "sys.path.append('../scripts')\n",
    "\n",
    "from btsc_dataset import load_full_dataset, split_images_and_labels, resize_images\n",
    "from utils import train_validation_test_split\n",
    "\n",
    "import numpy as np"
   ]
  },
  {
   "cell_type": "code",
   "execution_count": 2,
   "metadata": {},
   "outputs": [
    {
     "name": "stdout",
     "output_type": "stream",
     "text": [
      "Images: (7095, 32, 32, 3)\n",
      "Labels: (7095,)\n",
      "Total Unique Labels: 62\n"
     ]
    },
    {
     "data": {
      "text/plain": [
       "array(['00000', '00000', '00000', ..., '00061', '00061', '00061'],\n",
       "      dtype='<U5')"
      ]
     },
     "execution_count": 2,
     "metadata": {},
     "output_type": "execute_result"
    }
   ],
   "source": [
    "resized_data = resize_images(load_full_dataset(), size=32)\n",
    "(images, labels) = split_images_and_labels(resized_data)\n",
    "unique_labels = set(labels)\n",
    "\n",
    "print('Images:', images.shape)\n",
    "print('Labels:', labels.shape)\n",
    "print('Total Unique Labels:', len(unique_labels))\n",
    "labels"
   ]
  },
  {
   "cell_type": "code",
   "execution_count": 3,
   "metadata": {},
   "outputs": [
    {
     "name": "stderr",
     "output_type": "stream",
     "text": [
      "Using TensorFlow backend.\n"
     ]
    },
    {
     "name": "stdout",
     "output_type": "stream",
     "text": [
      "X: (7095, 32, 32, 3)\n",
      "y: (7095, 62)\n",
      "\n",
      "X_train: (4257, 32, 32, 3)\n",
      "y_train: (4257, 62)\n",
      "\n",
      "X_valid: (1419, 32, 32, 3)\n",
      "y_valid: (1419, 62)\n",
      "\n",
      "X_test: (1419, 32, 32, 3)\n",
      "y_test: (1419, 62)\n"
     ]
    }
   ],
   "source": [
    "from sklearn.preprocessing import LabelEncoder\n",
    "from keras.utils import to_categorical\n",
    "\n",
    "integer_labels= LabelEncoder().fit_transform(labels)\n",
    "ont_hot_labels = to_categorical(integer_labels)\n",
    "\n",
    "X = images\n",
    "y = ont_hot_labels\n",
    "\n",
    "X_train, X_valid, X_test, \\\n",
    "y_train, y_valid, y_test = train_validation_test_split(X, y, random_state=42)\n",
    "\n",
    "print('X:', X.shape)\n",
    "print('y:', y.shape)\n",
    "print()\n",
    "print('X_train:', X_train.shape)\n",
    "print('y_train:', y_train.shape)\n",
    "print()\n",
    "print('X_valid:', X_valid.shape)\n",
    "print('y_valid:', y_valid.shape)\n",
    "print()\n",
    "print('X_test:', X_test.shape)\n",
    "print('y_test:', y_test.shape)"
   ]
  },
  {
   "cell_type": "code",
   "execution_count": 4,
   "metadata": {},
   "outputs": [],
   "source": [
    "from keras.models import *\n",
    "from keras.layers import *\n",
    "\n",
    "model = Sequential()\n",
    "\n",
    "model.add(Conv2D(64, (3, 3), input_shape=X[0].shape, activation='relu'))\n",
    "model.add(MaxPooling2D(pool_size=(2, 2)))\n",
    "# TODO: Early Stopping\n",
    "#nTODO: Data Augmentation\n",
    "# TODO: VGG16, ...\n",
    "model.add(Flatten())\n",
    "model.add(Dense(64, activation='relu'))\n",
    "model.add(Dense(len(unique_labels), activation='softmax'))\n",
    "\n",
    "model.compile(optimizer='adam', loss='categorical_crossentropy', metrics=['accuracy'])"
   ]
  },
  {
   "cell_type": "code",
   "execution_count": 5,
   "metadata": {},
   "outputs": [
    {
     "name": "stdout",
     "output_type": "stream",
     "text": [
      "Train on 4257 samples, validate on 1419 samples\n",
      "Epoch 1/10\n",
      "4257/4257 [==============================] - 4s 834us/step - loss: 2.5831 - acc: 0.4198 - val_loss: 1.5007 - val_acc: 0.6568\n",
      "Epoch 2/10\n",
      "4257/4257 [==============================] - 2s 584us/step - loss: 1.0839 - acc: 0.7667 - val_loss: 0.7591 - val_acc: 0.8288\n",
      "Epoch 3/10\n",
      "4257/4257 [==============================] - 2s 585us/step - loss: 0.5809 - acc: 0.8729 - val_loss: 0.4892 - val_acc: 0.8887\n",
      "Epoch 4/10\n",
      "4257/4257 [==============================] - 3s 599us/step - loss: 0.3537 - acc: 0.9237 - val_loss: 0.3748 - val_acc: 0.9049\n",
      "Epoch 5/10\n",
      "4257/4257 [==============================] - 3s 589us/step - loss: 0.2319 - acc: 0.9464 - val_loss: 0.2964 - val_acc: 0.9352\n",
      "Epoch 6/10\n",
      "4257/4257 [==============================] - 3s 589us/step - loss: 0.1526 - acc: 0.9690 - val_loss: 0.2335 - val_acc: 0.9514\n",
      "Epoch 7/10\n",
      "4257/4257 [==============================] - 3s 592us/step - loss: 0.1037 - acc: 0.9786 - val_loss: 0.2238 - val_acc: 0.9479\n",
      "Epoch 8/10\n",
      "4257/4257 [==============================] - 3s 591us/step - loss: 0.0710 - acc: 0.9904 - val_loss: 0.1810 - val_acc: 0.9535\n",
      "Epoch 9/10\n",
      "4257/4257 [==============================] - 2s 583us/step - loss: 0.0575 - acc: 0.9911 - val_loss: 0.1690 - val_acc: 0.9591\n",
      "Epoch 10/10\n",
      "4257/4257 [==============================] - 3s 601us/step - loss: 0.0434 - acc: 0.9939 - val_loss: 0.1575 - val_acc: 0.9584\n"
     ]
    }
   ],
   "source": [
    "history = model.fit(X_train, y_train, validation_data=(X_valid, y_valid), batch_size=50, epochs=10, verbose=1)"
   ]
  },
  {
   "cell_type": "code",
   "execution_count": 6,
   "metadata": {},
   "outputs": [
    {
     "data": {
      "image/png": "[encoded data removed]",
      "text/plain": [
       "<Figure size 432x288 with 1 Axes>"
      ]
     },
     "metadata": {
      "needs_background": "light"
     },
     "output_type": "display_data"
    }
   ],
   "source": [
    "# Plot training & validation accuracies per epoch\n",
    "plt.plot(history.history['acc'])\n",
    "plt.plot(history.history['val_acc'])\n",
    "plt.title('Model Accuracy')\n",
    "plt.ylabel('accuracy')\n",
    "plt.xlabel('epoch')\n",
    "plt.legend(['Train', 'Validation'], loc='lower right')\n",
    "plt.show()"
   ]
  },
  {
   "cell_type": "code",
   "execution_count": 7,
   "metadata": {},
   "outputs": [
    {
     "data": {
      "image/png": "[encoded data removed]",
      "text/plain": [
       "<Figure size 432x288 with 1 Axes>"
      ]
     },
     "metadata": {
      "needs_background": "light"
     },
     "output_type": "display_data"
    }
   ],
   "source": [
    "# Plot training & validation losses per epoch\n",
    "plt.plot(history.history['loss'])\n",
    "plt.plot(history.history['val_loss'])\n",
    "plt.title('Model Loss')\n",
    "plt.ylabel('loss')\n",
    "plt.xlabel('epoch')\n",
    "plt.legend(['Train', 'Validation'], loc='upper right')\n",
    "plt.show()"
   ]
  },
  {
   "cell_type": "code",
   "execution_count": 8,
   "metadata": {},
   "outputs": [
    {
     "name": "stdout",
     "output_type": "stream",
     "text": [
      "1419/1419 [==============================] - 0s 193us/step\n",
      "Test Results:\n",
      "  Loss     = 0.15818039440747464\n",
      "  Accuracy = 0.9598308670176344\n"
     ]
    }
   ],
   "source": [
    "loss, acc = model.evaluate(X_test, y_test, verbose=1)\n",
    "\n",
    "print('Test Results:')\n",
    "print('  Loss     =', loss)\n",
    "print('  Accuracy =', acc)"
   ]
  }
 ],
 "metadata": {
  "kernelspec": {
   "display_name": "Python 3",
   "language": "python",
   "name": "python3"
  },
  "language_info": {
   "codemirror_mode": {
    "name": "ipython",
    "version": 3
   },
   "file_extension": ".py",
   "mimetype": "text/x-python",
   "name": "python",
   "nbconvert_exporter": "python",
   "pygments_lexer": "ipython3",
   "version": "3.6.8"
  }
 },
 "nbformat": 4,
 "nbformat_minor": 2
}
