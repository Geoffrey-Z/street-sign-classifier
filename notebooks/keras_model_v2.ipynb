{
 "cells": [
  {
   "cell_type": "code",
   "execution_count": 1,
   "metadata": {},
   "outputs": [],
   "source": [
    "import sys\n",
    "\n",
    "sys.path.append('../scripts')\n",
    "from btsc_dataset import load_full_dataset, split_images_and_labels, resize_images\n",
    "from utils import train_validation_test_split"
   ]
  },
  {
   "cell_type": "code",
   "execution_count": 2,
   "metadata": {},
   "outputs": [
    {
     "name": "stdout",
     "output_type": "stream",
     "text": [
      "Images: (7095, 32, 32, 3)\n",
      "Labels: (7095,)\n",
      "Total Unique Labels: 62\n"
     ]
    }
   ],
   "source": [
    "# Effect of increasing image size from 32->64: No accuracy change. Significantly longer train times.\n",
    "# Effect of increasing image size from 32->16: ~3% accuracy decrease. Significantly faster train times.\n",
    "resized_data = resize_images(load_full_dataset(), size=32)\n",
    "(images, labels) = split_images_and_labels(resized_data)\n",
    "unique_labels = set(labels)\n",
    "\n",
    "print('Images:', images.shape)\n",
    "print('Labels:', labels.shape)\n",
    "print('Total Unique Labels:', len(unique_labels))"
   ]
  },
  {
   "cell_type": "code",
   "execution_count": 3,
   "metadata": {},
   "outputs": [
    {
     "name": "stderr",
     "output_type": "stream",
     "text": [
      "Using TensorFlow backend.\n"
     ]
    },
    {
     "name": "stdout",
     "output_type": "stream",
     "text": [
      "X: (7095, 32, 32, 3)\n",
      "y: (7095, 62)\n",
      "\n",
      "X_train: (4257, 32, 32, 3)\n",
      "y_train: (4257, 62)\n",
      "\n",
      "X_valid: (1419, 32, 32, 3)\n",
      "y_valid: (1419, 62)\n",
      "\n",
      "X_test: (1419, 32, 32, 3)\n",
      "y_test: (1419, 62)\n"
     ]
    }
   ],
   "source": [
    "from sklearn.preprocessing import LabelEncoder\n",
    "from keras.utils import to_categorical\n",
    "\n",
    "integer_labels= LabelEncoder().fit_transform(labels)\n",
    "ont_hot_labels = to_categorical(integer_labels)\n",
    "\n",
    "X = images\n",
    "y = ont_hot_labels\n",
    "\n",
    "X_train, X_valid, X_test, \\\n",
    "y_train, y_valid, y_test = train_validation_test_split(X, y, random_state=42)\n",
    "\n",
    "print('X:', X.shape)\n",
    "print('y:', y.shape)\n",
    "print()\n",
    "print('X_train:', X_train.shape)\n",
    "print('y_train:', y_train.shape)\n",
    "print()\n",
    "print('X_valid:', X_valid.shape)\n",
    "print('y_valid:', y_valid.shape)\n",
    "print()\n",
    "print('X_test:', X_test.shape)\n",
    "print('y_test:', y_test.shape)"
   ]
  },
  {
   "cell_type": "code",
   "execution_count": 4,
   "metadata": {},
   "outputs": [],
   "source": [
    "from keras.models import *\n",
    "from keras.layers import *\n",
    "\n",
    "model = Sequential()\n",
    "\n",
    "# Effect of increasing filters from 16 to 32: ~1% accuracy decrease\n",
    "# Effect of increasing filters from 16 to 64: ~1% accuracy increase\n",
    "model.add(Conv2D(64, (3, 3), input_shape=X[0].shape, activation='relu'))\n",
    "model.add(MaxPooling2D(pool_size=(2, 2)))\n",
    "\n",
    "# Effect of adding this layer: no accuracy change\n",
    "# model.add(Dropout(0.2))\n",
    "\n",
    "# Effect of adding this layer: No accuracy change (~95-96%)\n",
    "# model.add(Conv2D(64, (3, 3), activation='relu'))\n",
    "# model.add(MaxPooling2D(pool_size=(2, 2)))\n",
    "\n",
    "model.add(Flatten())\n",
    "# Effect of increasing nodes from 64->128: No accuracy change (~95-96%).\n",
    "# Effect of decreasing nodes from 64->32: ~10% accuracy decrease (~85%).\n",
    "model.add(Dense(64, activation='relu'))\n",
    "model.add(Dense(len(unique_labels), activation='softmax'))\n",
    "\n",
    "model.compile(optimizer='adam', loss='categorical_crossentropy', metrics=['accuracy'])"
   ]
  },
  {
   "cell_type": "code",
   "execution_count": 5,
   "metadata": {},
   "outputs": [
    {
     "name": "stdout",
     "output_type": "stream",
     "text": [
      "Epoch 1/10\n",
      "4257/4257 [==============================] - 6s 1ms/step - loss: 2.6438 - acc: 0.4332\n",
      "Epoch 2/10\n",
      "4257/4257 [==============================] - 5s 1ms/step - loss: 1.2959 - acc: 0.7437\n",
      "Epoch 3/10\n",
      "4257/4257 [==============================] - 5s 1ms/step - loss: 0.7360 - acc: 0.8370\n",
      "Epoch 4/10\n",
      "4257/4257 [==============================] - 5s 1ms/step - loss: 0.4616 - acc: 0.8908\n",
      "Epoch 5/10\n",
      "4257/4257 [==============================] - 5s 1ms/step - loss: 0.3157 - acc: 0.9234\n",
      "Epoch 6/10\n",
      "4257/4257 [==============================] - 5s 1ms/step - loss: 0.2119 - acc: 0.9537\n",
      "Epoch 7/10\n",
      "4257/4257 [==============================] - 4s 1ms/step - loss: 0.1665 - acc: 0.9655\n",
      "Epoch 8/10\n",
      "4257/4257 [==============================] - 4s 1ms/step - loss: 0.1172 - acc: 0.9798\n",
      "Epoch 9/10\n",
      "4257/4257 [==============================] - 4s 1ms/step - loss: 0.0825 - acc: 0.9873\n",
      "Epoch 10/10\n",
      "4257/4257 [==============================] - 4s 1ms/step - loss: 0.0627 - acc: 0.9913\n"
     ]
    },
    {
     "data": {
      "text/plain": [
       "<keras.callbacks.History at 0x10791cfd0>"
      ]
     },
     "execution_count": 5,
     "metadata": {},
     "output_type": "execute_result"
    }
   ],
   "source": [
    "model.fit(X_train, y_train, batch_size=50, epochs=10, verbose=1)"
   ]
  },
  {
   "cell_type": "code",
   "execution_count": 6,
   "metadata": {},
   "outputs": [
    {
     "name": "stdout",
     "output_type": "stream",
     "text": [
      "1419/1419 [==============================] - 1s 628us/step\n",
      "Validation Results:\n",
      "  Loss     = 0.19383730056253934\n",
      "  Accuracy = 0.9527836506680925\n"
     ]
    }
   ],
   "source": [
    "loss, acc = model.evaluate(X_valid, y_valid, verbose=1)\n",
    "\n",
    "print('Validation Results:')\n",
    "print('  Loss     =', loss)\n",
    "print('  Accuracy =', acc)"
   ]
  },
  {
   "cell_type": "code",
   "execution_count": 7,
   "metadata": {},
   "outputs": [],
   "source": [
    "# loss, acc = model.evaluate(X_test, y_test, verbose=1)\n",
    "\n",
    "# print('Test Results:')\n",
    "# print('  Loss     =', loss)\n",
    "# print('  Accuracy =', acc)"
   ]
  },
  {
   "cell_type": "code",
   "execution_count": null,
   "metadata": {},
   "outputs": [],
   "source": []
  }
 ],
 "metadata": {
  "kernelspec": {
   "display_name": "Python 3",
   "language": "python",
   "name": "python3"
  },
  "language_info": {
   "codemirror_mode": {
    "name": "ipython",
    "version": 3
   },
   "file_extension": ".py",
   "mimetype": "text/x-python",
   "name": "python",
   "nbconvert_exporter": "python",
   "pygments_lexer": "ipython3",
   "version": "3.6.8"
  }
 },
 "nbformat": 4,
 "nbformat_minor": 2
}
