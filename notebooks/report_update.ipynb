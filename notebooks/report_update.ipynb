{
 "cells": [
  {
   "cell_type": "markdown",
   "metadata": {},
   "source": [
    "# Street Sign Classifier Report - Update\n",
    "\n",
    "This notebook is an update to the [original project report](https://github.com/Hopding/street-sign-classifier/blob/master/notebooks/report.ipynb)"
   ]
  },
  {
   "cell_type": "markdown",
   "metadata": {},
   "source": [
    "## Original Model\n",
    "\n",
    "The model documented in the original report was a very simple one. It only had a single convolutional layer. This model achieved an accuracy of 95-96% with a ~0.15 loss on the test dataset."
   ]
  },
  {
   "cell_type": "markdown",
   "metadata": {},
   "source": [
    "## VGG19 Model\n",
    "\n",
    "I was able to achieve an accuracy of 97-98% with a ~0.11 loss on the test dataset using an improved model. This model utilizes tranfer learning and early stopping to improve its accuracy. \n",
    "\n",
    "The initial layers of the network are copied from the VGG19 network. The weights of the bottom seven layers are frozen. A single convolutional layer and a couple of dense layers are stacked on top of this. These layers are not frozen during training.\n",
    "\n",
    "Shown below is a plot of the improved model's accuracy on the training and validation datasets per epoch during training.\n",
    "<img src=\"assets/final-accuracy-per-epoch.png\" width=\"400\" style=\"margin: 15px\">\n",
    "\n",
    "Shown below is a plot of the improved model's loss on the training and validation datasets per epoch during training.\n",
    "<img src=\"assets/final-loss-per-epoch.png\" width=\"400\" style=\"margin: 15px\">\n",
    "\n",
    "The improved model is available [here](https://github.com/Hopding/street-sign-classifier/blob/master/notebooks/final_model.ipynb)"
   ]
  },
  {
   "cell_type": "markdown",
   "metadata": {},
   "source": [
    "## Image Augmentation\n",
    "\n",
    "I also tried using image augmentation in the improved model. This, however, did not improve the accuracy. In fact, certain augmentation decreased the model's accuracy to as low as 90%. Listed below are the Keras [image transformations](https://keras.io/preprocessing/image/#imagedatagenerator-class) I tried, and their effects on the model's accuracy:\n",
    "\n",
    "| Augmentation | Effect on Accuracy |\n",
    "|--------------|--------|\n",
    "| `featurewise_center=True` | decreased |\n",
    "| `featurewise_std_normalization=True` | decreased |\n",
    "| `rotation_range=10` | decreased |\n",
    "| `width_shift_range=0.2` | no effect\n",
    "| `height_shift_range=0.2` | no effect |\n",
    "\n",
    "The model I built using image augmentation is available [here](https://github.com/Hopding/street-sign-classifier/blob/master/notebooks/vgg19_augmentation_model.ipynb)"
   ]
  }
 ],
 "metadata": {
  "kernelspec": {
   "display_name": "Python 3",
   "language": "python",
   "name": "python3"
  },
  "language_info": {
   "codemirror_mode": {
    "name": "ipython",
    "version": 3
   },
   "file_extension": ".py",
   "mimetype": "text/x-python",
   "name": "python",
   "nbconvert_exporter": "python",
   "pygments_lexer": "ipython3",
   "version": "3.6.8"
  }
 },
 "nbformat": 4,
 "nbformat_minor": 2
}
